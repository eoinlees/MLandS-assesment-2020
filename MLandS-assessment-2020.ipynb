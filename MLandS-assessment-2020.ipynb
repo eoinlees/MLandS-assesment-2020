{
 "cells": [
  {
   "cell_type": "markdown",
   "metadata": {},
   "source": [
    "# Tasks 2020\n",
    "\n",
    "December 18th 2020\n",
    "\n",
    "Eoin Lees - G00387888\n",
    "\n",
    "--------------"
   ]
  },
  {
   "cell_type": "code",
   "execution_count": 1,
   "metadata": {},
   "outputs": [],
   "source": [
    "# Import Functions\n",
    "\n",
    "import numpy as np\n",
    "import requests\n",
    "from bs4 import BeautifulSoup\n",
    "import pandas as pd\n",
    "import sklearn.neighbors as nei\n",
    "import sklearn.model_selection as mod"
   ]
  },
  {
   "cell_type": "markdown",
   "metadata": {},
   "source": [
    "\n",
    "# Task 1: Calculate square root of 2\n",
    "\n",
    "October 5th 2020\n",
    "____________\n",
    "\n",
    "Write a Python function called sqrt2 that calculates and\n",
    "prints to the screen the square root of 2 to 100 decimal places.\n",
    "Your code should\n",
    "not depend on any module from the standard library1 or otherwise.\n",
    "\n",
    "----\n"
   ]
  },
  {
   "cell_type": "markdown",
   "metadata": {},
   "source": [
    "## Introduction\n",
    "\n",
    "Calculating the square root of any number has been studied in mathematics for years. In simple terms it is a method of calculating the length of the hypothenuse on a right angled triangle with equal side length. In this case the triangle is shown below.\n",
    "\n",
    "<img src=\"https://upload.wikimedia.org/wikipedia/commons/5/5c/Isosceles_right_triangle_with_legs_length_1.svg\" alt=\"sqrt2\" style=\"width: 200px;\"/>\n",
    "\n",
    "It can be accomplished in many ways such as:\n",
    "\n",
    "\n",
    "* Babylonian Method\n",
    "* Bakhshali Method\n",
    "* Digit-by-digit calculation\n",
    "* Taylor series\n",
    "* Newton Rhapson Method\n",
    "\n",
    "In this task we we look at the Newton Rhapson Method. \n",
    "\n",
    "\n",
    "\n",
    "#### Newton Rhapson Method. \n",
    "\n",
    "\"The Newton–Raphson method, named after Isaac Newton and Joseph Raphson, is a root-finding algorithm which produces successively better approximations to the roots (or zeroes) of a real-valued function.\" [1,2]\n",
    "\n",
    "To find the square root of $z$ of a number $x$, we can iterate using the following equation. \n",
    "\n",
    "$$ z_{next} = z - \\frac{z^2 - x}{2z} $$\n",
    "\n",
    "\n",
    "https://en.wikipedia.org/wiki/Newton's_method\n",
    "The below code shows how this is done:"
   ]
  },
  {
   "cell_type": "code",
   "execution_count": 2,
   "metadata": {},
   "outputs": [],
   "source": [
    "# A function to calculate the square root of number x\n",
    "\n",
    "def sqrt1(p):\n",
    "    '''\n",
    "    A function to calculate the square root of number x\n",
    "    '''\n",
    "    # Initial guess for square root z\n",
    "    x = float(p)\n",
    "    z = x / 2\n",
    "    # Loop until accuracy is ok\n",
    "    while abs(x - (z*z)) > 0.000000000000001:\n",
    "         z -= (z*z - x) / (2*z)\n",
    "    # Return the approximate square root of x. \n",
    "    return z\n",
    "\n"
   ]
  },
  {
   "cell_type": "markdown",
   "metadata": {},
   "source": [
    "##### Tests of the function\n",
    "\n",
    "The function was tested with some known values. "
   ]
  },
  {
   "cell_type": "code",
   "execution_count": 3,
   "metadata": {
    "scrolled": true
   },
   "outputs": [
    {
     "data": {
      "text/plain": [
       "10.0"
      ]
     },
     "execution_count": 3,
     "metadata": {},
     "output_type": "execute_result"
    }
   ],
   "source": [
    "# Test the function on 100.\n",
    "sqrt1(100)"
   ]
  },
  {
   "cell_type": "code",
   "execution_count": 4,
   "metadata": {},
   "outputs": [
    {
     "data": {
      "text/plain": [
       "'1.4142135623730951'"
      ]
     },
     "execution_count": 4,
     "metadata": {},
     "output_type": "execute_result"
    }
   ],
   "source": [
    "# Test the function on 2.\n",
    "ans = sqrt1(2)\n",
    "ans = str(ans)\n",
    "ans"
   ]
  },
  {
   "cell_type": "code",
   "execution_count": 5,
   "metadata": {},
   "outputs": [
    {
     "name": "stdout",
     "output_type": "stream",
     "text": [
      "The number of decimal places is: 16\n"
     ]
    }
   ],
   "source": [
    "# Check answer\n",
    "print(\"The number of decimal places is:\", (len(ans)-2) ) #Number of characters total - 2 = number of decimal places"
   ]
  },
  {
   "cell_type": "markdown",
   "metadata": {},
   "source": [
    "Using this method it seems like the limit is reached after 16 decimal places. Another method muct be investigated. "
   ]
  },
  {
   "cell_type": "markdown",
   "metadata": {},
   "source": [
    "## Alternate Method\n",
    "\n",
    "A way to get around this limit is to multiply the number we need the square root of by the number of decimal places required squared. \n",
    "\n",
    "The brief states that all that is required is that the algorithm `prints to the screen the square root of 2 to 100 decimal places`\n",
    "\n",
    "Taking advantage of this statement we can convert the answer to the above algorithm into a string. Then using string manipulation we can insert a decimal place in the correct location and print the square root of 2 to 100 decimal places.\n",
    "\n",
    "https://stackoverflow.com/questions/64278117/is-there-a-way-to-create-more-decimal-points-on-python-without-importing-a-libra\n",
    "\n",
    "https://leetcode.com/problems/sqrtx/discuss/169594/Python-Solution-based-on-shifting-nth-root-algorithm\n",
    "\n",
    "https://stackoverflow.com/questions/29724907/limit-of-digit-by-digit-calculation-of-square-roots\n",
    "\n",
    "https://stackoverflow.com/questions/64295245/how-to-get-the-square-root-of-a-number-to-100-decimal-places-without-using-any-l\n"
   ]
  },
  {
   "cell_type": "code",
   "execution_count": 6,
   "metadata": {},
   "outputs": [],
   "source": [
    "# multiply input by number of decimal places needed squared. \n",
    "\n",
    "def sqrt(p):\n",
    "\n",
    "   #take input number and multiply it by 100^100 \n",
    "    x = p * 100 ** 100\n",
    "    \n",
    "    # Initial guess for square root z\n",
    "    z = x // 2\n",
    "    \n",
    "    # Loop until accuracy is ok\n",
    "    while x - (z*z) < 0:\n",
    "        \n",
    "         z = (z + x//z) // 2 #https://stackoverflow.com/questions/183853/what-is-the-difference-between-and-when-used-for-division\n",
    "    z = str(z) # Convert into string\n",
    "    \n",
    "    # Return the approximate square root of x and  \n",
    "    return(z[0] + \".\" + z[1:])\n",
    "\n"
   ]
  },
  {
   "cell_type": "code",
   "execution_count": 7,
   "metadata": {},
   "outputs": [
    {
     "data": {
      "text/plain": [
       "'1.4142135623730950488016887242096980785696718753769480731766797379907324784621070388503875343276415727'"
      ]
     },
     "execution_count": 7,
     "metadata": {},
     "output_type": "execute_result"
    }
   ],
   "source": [
    "# Test Function\n",
    "sqrt(2)"
   ]
  },
  {
   "cell_type": "code",
   "execution_count": 8,
   "metadata": {},
   "outputs": [
    {
     "name": "stdout",
     "output_type": "stream",
     "text": [
      "The number of decimal places is: 100\n"
     ]
    }
   ],
   "source": [
    "# Verify answer\n",
    "print(\"The number of decimal places is:\", (len(sqrt(2))-2) )"
   ]
  },
  {
   "cell_type": "markdown",
   "metadata": {},
   "source": [
    "### Importing modules to compare results\n",
    "\n",
    "For comparison two functions have been imported to test the functions and find out the results we wish to achieve. As stated in the project brief the functions must be completed without importing any of the standard functions so these are purely for comparitive sake. "
   ]
  },
  {
   "cell_type": "code",
   "execution_count": 9,
   "metadata": {},
   "outputs": [
    {
     "data": {
      "text/plain": [
       "1.4142135623730951"
      ]
     },
     "execution_count": 9,
     "metadata": {},
     "output_type": "execute_result"
    }
   ],
   "source": [
    "# Test with imported  math function\n",
    "import math\n",
    "math.sqrt(2)"
   ]
  },
  {
   "cell_type": "code",
   "execution_count": 10,
   "metadata": {},
   "outputs": [
    {
     "name": "stdout",
     "output_type": "stream",
     "text": [
      "The number of decimal places is: 16\n"
     ]
    }
   ],
   "source": [
    "# Verify answer\n",
    "ans = str(math.sqrt(2)) \n",
    "print(\"The number of decimal places is:\", (len(ans)-2))"
   ]
  },
  {
   "cell_type": "code",
   "execution_count": 11,
   "metadata": {},
   "outputs": [
    {
     "data": {
      "text/plain": [
       "False"
      ]
     },
     "execution_count": 11,
     "metadata": {},
     "output_type": "execute_result"
    }
   ],
   "source": [
    "# Check if the answers returned are the same. \n",
    "str(math.sqrt(2)) == sqrt(2)"
   ]
  },
  {
   "cell_type": "markdown",
   "metadata": {},
   "source": [
    "The math function returns a similar number of decimal places as our first test. It must be based on a similar process as it returns the exact same result."
   ]
  },
  {
   "cell_type": "code",
   "execution_count": 12,
   "metadata": {},
   "outputs": [
    {
     "data": {
      "text/plain": [
       "Decimal('1.4142135623730950488016887242096980785696718753769480731766797379907324784621070388503875343276415727')"
      ]
     },
     "execution_count": 12,
     "metadata": {},
     "output_type": "execute_result"
    }
   ],
   "source": [
    "# Get result using decimal module\n",
    "from decimal import *\n",
    "getcontext().prec = 101 # for 100 decimal places\n",
    "ans = Decimal(2).sqrt()  # https://docs.python.org/3/library/decimal.html\n",
    "ans"
   ]
  },
  {
   "cell_type": "code",
   "execution_count": 13,
   "metadata": {},
   "outputs": [
    {
     "name": "stdout",
     "output_type": "stream",
     "text": [
      "The number of decimal places is: 100\n"
     ]
    }
   ],
   "source": [
    "# Count number of decimal places here\n",
    "ans = str(ans) \n",
    "print(\"The number of decimal places is:\", (len(ans)-2))"
   ]
  },
  {
   "cell_type": "code",
   "execution_count": 14,
   "metadata": {},
   "outputs": [
    {
     "name": "stdout",
     "output_type": "stream",
     "text": [
      "1.4142135623730950488016887242096980785696718753769480731766797379907324784621070388503875343276415727\n",
      "1.4142135623730950488016887242096980785696718753769480731766797379907324784621070388503875343276415727\n"
     ]
    },
    {
     "data": {
      "text/plain": [
       "True"
      ]
     },
     "execution_count": 14,
     "metadata": {},
     "output_type": "execute_result"
    }
   ],
   "source": [
    "# Test if results from function match results from decimal module\n",
    "print(sqrt(2))\n",
    "print(str(ans))\n",
    "sqrt(2) == str(ans)"
   ]
  },
  {
   "cell_type": "markdown",
   "metadata": {},
   "source": [
    "The decimal function returns the same answer as our `sqrt()` function. It verifys our results.\n",
    "\n",
    "-----------------\n"
   ]
  },
  {
   "cell_type": "markdown",
   "metadata": {},
   "source": [
    "## Other Research\n",
    "\n",
    "While researching this function I spent time looking into other methods names\n",
    "\n",
    "https://en.wikipedia.org/wiki/Methods_of_computing_square_roots#Arithmetic_estimates\n",
    "\n",
    "https://en.wikipedia.org/wiki/Methods_of_computing_square_roots#Digit-by-digit_calculation\n",
    "\n",
    "Methods of computing square roots.\n",
    "\n",
    "https://en.wikipedia.org/wiki/Methods_of_computing_square_roots#Babylonian_method\n",
    "\n",
    "Digit by digit\n",
    "https://en.wikipedia.org/wiki/Methods_of_computing_square_roots#Digit-by-digit_calculation\n",
    "\n",
    "However after discovering the above method it fulfilled the brief successfully. There was no need to investigate any more complicated methods any further. "
   ]
  },
  {
   "cell_type": "markdown",
   "metadata": {},
   "source": [
    "# Task 1: References\n",
    "\n",
    "\n",
    "This is a markdown cell [1]\n",
    "\n",
    "[1] Mastering Markdown; GitHub; https://guides.github.com/features/mastering-markdown/\n",
    "\n",
    "[2] Python Tutorial; Python Software Foundation; https://docs.python.org/3/tutorial/controlflow.html#for-statements\n",
    "\n",
    "[3] Methods of computing square roots; Wikipedia; https://en.wikipedia.org/wiki/Methods_of_computing_square_roots\n",
    "\n",
    "[4] https://medium.com/@surajregmi/how-to-calculate-the-square-root-of-a-number-newton-raphson-method-f8007714f64\n",
    "\n",
    "[5] A tour of go; Exercise: Loops and Functions; https://tour.golang.com/flowcontrol/8\n",
    "\n",
    "[6] Newton's method; Wikipedia; https://en.wikipedia.org/wiki/Newton%27s_method\n",
    "\n",
    "[7] https://www.mathjax.org/\n",
    "\n",
    "###### Assignment 2\n",
    "\n",
    "-------\n",
    "    "
   ]
  },
  {
   "cell_type": "markdown",
   "metadata": {},
   "source": [
    "# Task 2: Chi-squared test fo independence\n",
    "\n",
    "\n",
    "November 2nd 2020\n",
    "\n",
    "-----------------\n",
    "\n",
    "The Chi-squared test for independence is a statistical\n",
    "hypothesis test like a t-test. It is used to analyse whether two categorical variables\n",
    "are independent. The Wikipedia article gives the table below as an example,\n",
    "stating the Chi-squared value based on it is approximately 24.6. Use `scipy.stats`\n",
    "to verify this value and calculate the associated p value.\n",
    "\n",
    "--------------------\n"
   ]
  },
  {
   "cell_type": "markdown",
   "metadata": {},
   "source": [
    "## Intoroduction\n",
    "\n",
    "#### Chi-squared test\n",
    "\n",
    "\n",
    "https://en.wikipedia.org/wiki/Chi-squared_test\n",
    "\n",
    "references \n",
    "\n",
    "https://www.youtube.com/watch?v=ICXR9nDbudk&ab_channel=JieJenn \n",
    "\n",
    "https://stackoverflow.com/questions/50355577/scraping-wikipedia-tables-with-python-selectively\n",
    "\n",
    "https://medium.com/analytics-vidhya/web-scraping-a-wikipedia-table-into-a-dataframe-c52617e1f451"
   ]
  },
  {
   "cell_type": "markdown",
   "metadata": {},
   "source": [
    "### Import table from wikipedia using beautiful soup"
   ]
  },
  {
   "cell_type": "code",
   "execution_count": 15,
   "metadata": {},
   "outputs": [
    {
     "data": {
      "text/html": [
       "<div>\n",
       "<style scoped>\n",
       "    .dataframe tbody tr th:only-of-type {\n",
       "        vertical-align: middle;\n",
       "    }\n",
       "\n",
       "    .dataframe tbody tr th {\n",
       "        vertical-align: top;\n",
       "    }\n",
       "\n",
       "    .dataframe thead th {\n",
       "        text-align: right;\n",
       "    }\n",
       "</style>\n",
       "<table border=\"1\" class=\"dataframe\">\n",
       "  <thead>\n",
       "    <tr style=\"text-align: right;\">\n",
       "      <th></th>\n",
       "      <th>Occupation</th>\n",
       "      <th>A</th>\n",
       "      <th>B</th>\n",
       "      <th>C</th>\n",
       "      <th>D</th>\n",
       "      <th>RowTotal</th>\n",
       "    </tr>\n",
       "  </thead>\n",
       "  <tbody>\n",
       "    <tr>\n",
       "      <th>0</th>\n",
       "      <td>White collar</td>\n",
       "      <td>90</td>\n",
       "      <td>60</td>\n",
       "      <td>104</td>\n",
       "      <td>95</td>\n",
       "      <td>349</td>\n",
       "    </tr>\n",
       "    <tr>\n",
       "      <th>1</th>\n",
       "      <td>Blue collar</td>\n",
       "      <td>30</td>\n",
       "      <td>50</td>\n",
       "      <td>51</td>\n",
       "      <td>20</td>\n",
       "      <td>151</td>\n",
       "    </tr>\n",
       "    <tr>\n",
       "      <th>2</th>\n",
       "      <td>No collar</td>\n",
       "      <td>30</td>\n",
       "      <td>40</td>\n",
       "      <td>45</td>\n",
       "      <td>35</td>\n",
       "      <td>150</td>\n",
       "    </tr>\n",
       "    <tr>\n",
       "      <th>3</th>\n",
       "      <td>Total</td>\n",
       "      <td>150</td>\n",
       "      <td>150</td>\n",
       "      <td>200</td>\n",
       "      <td>150</td>\n",
       "      <td>650</td>\n",
       "    </tr>\n",
       "  </tbody>\n",
       "</table>\n",
       "</div>"
      ],
      "text/plain": [
       "     Occupation    A    B    C    D  RowTotal\n",
       "0  White collar   90   60  104   95       349\n",
       "1   Blue collar   30   50   51   20       151\n",
       "2     No collar   30   40   45   35       150\n",
       "3         Total  150  150  200  150       650"
      ]
     },
     "execution_count": 15,
     "metadata": {},
     "output_type": "execute_result"
    }
   ],
   "source": [
    "\n",
    "# [8] [9]\n",
    "URL = \"https://en.wikipedia.org/w/index.php?title=Chi-squared_test&oldid=983024096\"\n",
    "table_class = \"wikitable\"\n",
    "\n",
    "response = requests.get(URL)\n",
    "soup = BeautifulSoup(response.text,'html.parser')\n",
    "\n",
    "chisqr = soup.find(\"table\", class_=table_class)\n",
    "df = pd.read_html(str(chisqr), skiprows=(5,6)) # Skip total at bottom\n",
    "\n",
    "# tidy up data [10]\n",
    "data = pd.DataFrame(df[0])\n",
    "data_df = data.rename(columns={\"Unnamed: 0\": \"Occupation\", \"total\": \"RowTotal\"})\n",
    "data_df\n",
    "#pivot_df = df.pivot(index=\"\", columns=\"\")\n",
    "#pivot_df\n",
    "\n",
    "\n"
   ]
  },
  {
   "cell_type": "markdown",
   "metadata": {},
   "source": [
    "To future proof this notebook the data was added to an array manually. If the wikipedia article changes it still retains its functionality. It also enables us to input the data directly in the format required for `scipy.stats`.  "
   ]
  },
  {
   "cell_type": "markdown",
   "metadata": {},
   "source": [
    "### Manually input data"
   ]
  },
  {
   "cell_type": "code",
   "execution_count": 44,
   "metadata": {},
   "outputs": [],
   "source": [
    "# Manually set data\n",
    "data = np.array([[90,60,104,95],[30,50,51,20],[30,40,45,35]])"
   ]
  },
  {
   "cell_type": "code",
   "execution_count": 45,
   "metadata": {},
   "outputs": [],
   "source": [
    "from scipy.stats import chi2_contingency"
   ]
  },
  {
   "cell_type": "markdown",
   "metadata": {},
   "source": [
    "### chi2_contingency function\n",
    "\n",
    "The function `chi2_contingency()` imported from `scipy.stats` is a function that computes a Chi-square test of independence of variables in a contingency table.\n",
    "\n",
    "It is usefull in this situation as the data required to be analised is in the perfect format for this function. It takes the data inputted as an array without the titles or indexes. \n",
    "\n",
    "It returns the following:\n",
    "\n",
    "* chi2 (float): The test statistic.\n",
    "\n",
    "* p (float): The p-value of the test\n",
    "\n",
    "* dof (int): Degrees of freedom\n",
    "\n",
    "* expectedndarray (same shape as observed): The expected frequencies, based on the marginal sums of the table.\n",
    "\n",
    "\n",
    "\"This function computes the chi-square statistic and p-value for the hypothesis test of independence of the observed frequencies in the contingency table observed. The expected frequencies are computed based on the marginal sums under the assumption of independence. The number of degrees of freedom is (expressed using numpy functions and attributes)\"\n",
    "\n",
    "https://docs.scipy.org/doc/scipy/reference/generated/scipy.stats.chi2_contingency.html\n",
    "\n"
   ]
  },
  {
   "cell_type": "markdown",
   "metadata": {},
   "source": [
    "### Run chi squared test"
   ]
  },
  {
   "cell_type": "code",
   "execution_count": 46,
   "metadata": {
    "scrolled": true
   },
   "outputs": [
    {
     "data": {
      "text/plain": [
       "(24.5712028585826,\n",
       " 0.0004098425861096696,\n",
       " 6,\n",
       " array([[ 80.53846154,  80.53846154, 107.38461538,  80.53846154],\n",
       "        [ 34.84615385,  34.84615385,  46.46153846,  34.84615385],\n",
       "        [ 34.61538462,  34.61538462,  46.15384615,  34.61538462]]))"
      ]
     },
     "execution_count": 46,
     "metadata": {},
     "output_type": "execute_result"
    }
   ],
   "source": [
    "# Run chi squared test\n",
    "chi2_contingency(data)"
   ]
  },
  {
   "cell_type": "code",
   "execution_count": 50,
   "metadata": {},
   "outputs": [
    {
     "name": "stdout",
     "output_type": "stream",
     "text": [
      "--------------------------------------------------\n",
      "\n",
      "\n",
      "The test statistic is:  24.5712028585826\n",
      "The p-value is:  0.0004098425861096696\n",
      "The degrees of freedom are:  6\n",
      "\n",
      "\n",
      "--------------------------------------------------\n"
     ]
    },
    {
     "data": {
      "text/html": [
       "<div>\n",
       "<style scoped>\n",
       "    .dataframe tbody tr th:only-of-type {\n",
       "        vertical-align: middle;\n",
       "    }\n",
       "\n",
       "    .dataframe tbody tr th {\n",
       "        vertical-align: top;\n",
       "    }\n",
       "\n",
       "    .dataframe thead th {\n",
       "        text-align: right;\n",
       "    }\n",
       "</style>\n",
       "<table border=\"1\" class=\"dataframe\">\n",
       "  <thead>\n",
       "    <tr style=\"text-align: right;\">\n",
       "      <th></th>\n",
       "      <th>A</th>\n",
       "      <th>B</th>\n",
       "      <th>C</th>\n",
       "      <th>D</th>\n",
       "    </tr>\n",
       "  </thead>\n",
       "  <tbody>\n",
       "    <tr>\n",
       "      <th>White collar</th>\n",
       "      <td>80.538462</td>\n",
       "      <td>80.538462</td>\n",
       "      <td>107.384615</td>\n",
       "      <td>80.538462</td>\n",
       "    </tr>\n",
       "    <tr>\n",
       "      <th>Blue collar</th>\n",
       "      <td>34.846154</td>\n",
       "      <td>34.846154</td>\n",
       "      <td>46.461538</td>\n",
       "      <td>34.846154</td>\n",
       "    </tr>\n",
       "    <tr>\n",
       "      <th>No collar</th>\n",
       "      <td>34.615385</td>\n",
       "      <td>34.615385</td>\n",
       "      <td>46.153846</td>\n",
       "      <td>34.615385</td>\n",
       "    </tr>\n",
       "    <tr>\n",
       "      <th>Total</th>\n",
       "      <td>150.000000</td>\n",
       "      <td>150.000000</td>\n",
       "      <td>200.000000</td>\n",
       "      <td>150.000000</td>\n",
       "    </tr>\n",
       "  </tbody>\n",
       "</table>\n",
       "</div>"
      ],
      "text/plain": [
       "                       A           B           C           D\n",
       "White collar   80.538462   80.538462  107.384615   80.538462\n",
       "Blue collar    34.846154   34.846154   46.461538   34.846154\n",
       "No collar      34.615385   34.615385   46.153846   34.615385\n",
       "Total         150.000000  150.000000  200.000000  150.000000"
      ]
     },
     "execution_count": 50,
     "metadata": {},
     "output_type": "execute_result"
    }
   ],
   "source": [
    "# Tidy up results\n",
    "chi2, p, dof, ex = chi2_contingency(data, correction=False)\n",
    "# https://docs.scipy.org/doc/scipy/reference/generated/scipy.stats.chi2_contingency.html\n",
    "\n",
    "stat = chi2\n",
    "\n",
    "dataChi2 = pd.DataFrame(ex, index = ['White collar', 'Blue collar', 'No collar']) #https://stackoverflow.com/questions/19851005/rename-pandas-dataframe-index#:~:text=Pandas%20has%20some%20quirkiness%20when,change%20the%20index%20level%20names.&text=This%20DataFrame%20has%20one%20level,column%20index%20have%20no%20name.\n",
    " # https://pandas.pydata.org/pandas-docs/stable/reference/api/pandas.Series.sum.html#pandas.Series.sum\n",
    "data_df = dataChi2.rename(columns={0: \"A\", 1: \"B\", 2: \"C\", 3: \"D\"})\n",
    "data_df = data_df.append(data_df.sum().rename('Total'))\n",
    "\n",
    "print(\"--------------------------------------------------\")\n",
    "print(\"\\n\")\n",
    "print(\"The test statistic is: \", chi2)\n",
    "print(\"The p-value is: \", p)\n",
    "print(\"The degrees of freedom are: \", dof)\n",
    "print(\"\\n\")\n",
    "print(\"--------------------------------------------------\")\n",
    "data_df\n",
    "\n",
    "\n"
   ]
  },
  {
   "cell_type": "code",
   "execution_count": 57,
   "metadata": {},
   "outputs": [
    {
     "name": "stdout",
     "output_type": "stream",
     "text": [
      "Dependent (Reject Null Hypothesis)\n"
     ]
    }
   ],
   "source": [
    "from scipy.stats import chi2\n",
    "# interpret test-statistic (https://machinelearningmastery.com/chi-squared-test-for-machine-learning/)\n",
    "prob = 0.95\n",
    "critical = chi2.ppf(prob, dof)\n",
    "#print(critical) #To test result\n",
    "if abs(stat) >= critical:\n",
    "\tprint('Dependent (Reject Null Hypothesis)')\n",
    "else:\n",
    "\tprint('Independent (fail to reject Null Hypothesis)')"
   ]
  },
  {
   "cell_type": "code",
   "execution_count": 58,
   "metadata": {},
   "outputs": [
    {
     "name": "stdout",
     "output_type": "stream",
     "text": [
      "Dependent (Reject Null Hypothesis)\n"
     ]
    }
   ],
   "source": [
    "# interpret p-value\n",
    "alpha = 1.0 - prob\n",
    "if p <= alpha:\n",
    "\tprint('Dependent (Reject Null Hypothesis)')\n",
    "else:\n",
    "\tprint('Independent (fail to reject Null Hypothesis)')"
   ]
  },
  {
   "cell_type": "markdown",
   "metadata": {},
   "source": [
    "### Results. \n",
    "\n",
    "The table above gives the results of the chi-squared test for independence along with the p value that was expected. The values shown in the table are the expected values of each \n",
    "\n",
    "What the results tell us:\n",
    "* The test statistic result of 24.5712028585826 matches the stated statistic 24.6 from wikipedia.\n",
    "* The degrees of freedom result of 6 matches the wikipedia article also. \n",
    "* Both the chi-squared and p value results reject the null hypothesis\n",
    "\n",
    "What format is the table required to be in to use the function:\n",
    "* The table must be in a simple numpy array \n",
    "* Each occupation is in a list seperatly\n",
    "* labels and occupation names are added after the calculation\n",
    "\n",
    "\n",
    "### Conclusions\n",
    "\n",
    "In this specific set of data the null hypothesis is that each person's neighborhood of residence is independent of the person's occupational classification.\n",
    "\n",
    "We can interpret the test statistic in the context of the chi-squared distribution with the requisite number of degress of freedom as follows:\n",
    "\n",
    "* If Statistic >= Critical Value: significant result, reject null hypothesis , dependent.\n",
    "* If Statistic < Critical Value: not significant result, fail to reject null hypothesis , independent.https://machinelearningmastery.com/chi-squared-test-for-machine-learning/\n",
    "\n",
    "The simple calculation above rejects the null hypothesis. \n",
    "\n",
    "In simple terms it means that neighbourhood is in fact dependent on your your occupation.  \n",
    "\n",
    "https://stackoverflow.com/questions/64669448/understanding-scipy-stats-chisquare\n",
    "\n",
    "https://machinelearningmastery.com/chi-squared-test-for-machine-learning/\n",
    "\n",
    "\n",
    "\n",
    "---------------------------"
   ]
  },
  {
   "cell_type": "markdown",
   "metadata": {},
   "source": [
    "# Task 2: References\n",
    "\n",
    "\n",
    "[1] Mastering Markdown; GitHub; https://guides.github.com/features/mastering-markdown/\n",
    "\n",
    "\n",
    "[8] https://www.youtube.com/watch?v=ICXR9nDbudk&ab_channel=JieJenn]\n",
    "\n",
    "[9] https://stackoverflow.com/questions/50355577/scraping-wikipedia-tables-with-python-selectively\n",
    "\n",
    "[10] https://pandas.pydata.org/pandas-docs/stable/reference/api/pandas.DataFrame.rename.html\n",
    "\n",
    "\n",
    "\n",
    "\n",
    "-----------------------------------"
   ]
  },
  {
   "cell_type": "markdown",
   "metadata": {},
   "source": [
    "# Task 3: Standard deviation\n",
    "\n",
    "November 16th 2020\n",
    "\n",
    "---------------"
   ]
  },
  {
   "cell_type": "code",
   "execution_count": null,
   "metadata": {},
   "outputs": [],
   "source": [
    "import numpy as np\n",
    "\n",
    "import statsmodels.stats.weightstats as stat\n",
    "import scipy.stats as ss\n",
    "import matplotlib.pyplot as plt\n",
    "import seaborn as sns\n",
    "\n",
    "plt.style.use(\"fivethirtyeight\")\n",
    "\n"
   ]
  },
  {
   "cell_type": "markdown",
   "metadata": {},
   "source": [
    "x = 10"
   ]
  },
  {
   "cell_type": "markdown",
   "metadata": {},
   "source": [
    "x = 10\n",
    "np.sqrt(np.sum((x - np.mean(x))**2)/len(x))"
   ]
  },
  {
   "cell_type": "markdown",
   "metadata": {},
   "source": [
    "## Excel Functions\n",
    "\n",
    "#### STDEV.P\n",
    "\n",
    "https://support.microsoft.com/en-us/office/stdev-p-function-6e917c05-31a0-496f-ade7-4f4e7462f285\n",
    "\n",
    "divided by `len(x)`\n",
    "\n",
    "#### STDEV.S\n",
    "\n",
    "https://support.microsoft.com/en-us/office/stdev-s-function-7d69cf97-0c1f-4acf-be27-f3e83904cc23\n",
    "\n",
    "\n",
    "divided by `len(x)-1`\n",
    "\n",
    "Explination Needed for both and reasons for one over the other"
   ]
  },
  {
   "cell_type": "code",
   "execution_count": null,
   "metadata": {},
   "outputs": [],
   "source": []
  },
  {
   "cell_type": "code",
   "execution_count": null,
   "metadata": {},
   "outputs": [],
   "source": []
  },
  {
   "cell_type": "code",
   "execution_count": null,
   "metadata": {},
   "outputs": [],
   "source": []
  },
  {
   "cell_type": "markdown",
   "metadata": {},
   "source": [
    "### Numpy Function\n",
    "\n",
    "https://numpy.org/doc/1.19/reference/generated/numpy.std.html?highlight=std#numpy.std\n",
    "\n",
    "--------------"
   ]
  },
  {
   "cell_type": "code",
   "execution_count": null,
   "metadata": {},
   "outputs": [],
   "source": [
    "a = np.array([[1, 2], [3, 4]])\n",
    "np.std(a)\n"
   ]
  },
  {
   "cell_type": "code",
   "execution_count": null,
   "metadata": {},
   "outputs": [],
   "source": [
    "np.std(a, axis=0)\n"
   ]
  },
  {
   "cell_type": "code",
   "execution_count": null,
   "metadata": {},
   "outputs": [],
   "source": [
    "np.std(a, axis=1)\n"
   ]
  },
  {
   "cell_type": "code",
   "execution_count": null,
   "metadata": {},
   "outputs": [],
   "source": []
  },
  {
   "cell_type": "markdown",
   "metadata": {},
   "source": [
    "Write up results\n",
    "\n",
    "\n",
    "-------------------------------"
   ]
  },
  {
   "cell_type": "markdown",
   "metadata": {},
   "source": [
    "# Task 3: References\n",
    "\n",
    "[1] Mastering Markdown; GitHub; https://guides.github.com/features/mastering-markdown/\n",
    "\n",
    "\n",
    "----------------------"
   ]
  },
  {
   "cell_type": "markdown",
   "metadata": {},
   "source": [
    "# Task 4: scikit-learn: Iris Data Set\n",
    "\n",
    "November 30th 2020\n",
    "\n",
    "Use scikit-learn to apply k-means clustering to\n",
    "Fisher’s famous Iris data set.\n",
    "Explain in a Markdown cell how your code works and how accurate it might be, and then explain how your model could be used to make predictions of species of iris.\n",
    "\n",
    "---------------"
   ]
  },
  {
   "cell_type": "markdown",
   "metadata": {},
   "source": [
    "### Introduction\n",
    "\n",
    "Kmeans algorithm\n",
    "\n",
    "The KMeans algorithm clusters data by trying to separate samples in n groups of equal variance, minimizing a criterion known as the inertia or within-cluster sum-of-squares. This algorithm requires the number of clusters to be specified. It scales well to large number of samples and has been used across a large range of application areas in many different fields. https://scikit-learn.org/stable/modules/clustering.html#k-means\n",
    "\n",
    "The k-means algorithm divides a set of samples into seperate clusters ,each described by the mean of the samples in the cluster. The means are commonly called the cluster “centroids”\n",
    "\n",
    "The K-means algorithm aims to choose centroids that minimise the inertia\n",
    "\n",
    "Inertia:\n",
    "    * a measure of how internally coherent clusters are\n",
    "    * responds poorly to elongated or irregular shapes\n",
    "    \n",
    "    \n",
    "### Iris flower data set\n",
    "\n",
    "A commonly used data set in machine learning. Was created in 1936 by british statistician Ronald Fisher. \n",
    "\n",
    "It comprises of three species of Iris (setosa, virginica and versicolor) with 50 samples of each. four seperate features of the iris was measured: sepal length, sepal width, petal length and petal width.  \n",
    "\n",
    "It is usefull as a tool in machine learning as it has 2 distinct groups of data. One is easily identified while the others can be seperated using a linear discriminant model developed by Fisher. \n",
    "\n",
    "Further information can be fount here:\n",
    "https://en.wikipedia.org/wiki/Iris_flower_data_set\n",
    "    "
   ]
  },
  {
   "cell_type": "code",
   "execution_count": null,
   "metadata": {},
   "outputs": [],
   "source": [
    "# Load the iris data set from a URL.\n",
    "df = pd.read_csv(\"https://github.com/ianmcloughlin/datasets/raw/master/iris.csv\")"
   ]
  },
  {
   "cell_type": "code",
   "execution_count": null,
   "metadata": {
    "scrolled": true
   },
   "outputs": [],
   "source": [
    "# Display the data\n",
    "df"
   ]
  },
  {
   "cell_type": "code",
   "execution_count": null,
   "metadata": {},
   "outputs": [],
   "source": [
    "# Load the seaborn package.\n",
    "import seaborn as sns\n",
    "\n",
    "# Plot the Iris data set with a pair plot.\n",
    "sns.pairplot(df, hue=\"class\")"
   ]
  },
  {
   "cell_type": "markdown",
   "metadata": {},
   "source": [
    "Using the pairplot command in the seaborn module gives us a good initial view of the data. Given that the species are already labelled we can see where the issues are in seperating them into clusters as the versicolor and virginica overlapin all cases."
   ]
  },
  {
   "cell_type": "markdown",
   "metadata": {},
   "source": [
    "## Inputs and outputs"
   ]
  },
  {
   "cell_type": "markdown",
   "metadata": {},
   "source": [
    "\n",
    "https://medium.com/@belen.sanchez27/predicting-iris-flower-species-with-k-means-clustering-in-python-f6e46806aaee\n",
    "\n",
    "### Read article"
   ]
  },
  {
   "cell_type": "markdown",
   "metadata": {},
   "source": [
    "### K-means Test"
   ]
  },
  {
   "cell_type": "code",
   "execution_count": null,
   "metadata": {},
   "outputs": [],
   "source": [
    "from sklearn.cluster import KMeans\n",
    "import numpy as np\n"
   ]
  },
  {
   "cell_type": "code",
   "execution_count": null,
   "metadata": {},
   "outputs": [],
   "source": [
    "# Convert dataframe to array\n",
    "x = df.iloc[:, [0, 1, 2, 3]].values\n",
    "x"
   ]
  },
  {
   "cell_type": "code",
   "execution_count": null,
   "metadata": {},
   "outputs": [],
   "source": [
    "# Isolate the class and save in variable to compare results with\n",
    "species = df[\"class\"]\n",
    "species"
   ]
  },
  {
   "cell_type": "code",
   "execution_count": null,
   "metadata": {},
   "outputs": [],
   "source": [
    "# find the optimum number of clusters\n",
    "wcss = []\n",
    "\n",
    "for i in range(1, 11):\n",
    "    kmeans = KMeans(n_clusters = i, init = 'k-means++', max_iter = 300, n_init = 10, random_state = 0)\n",
    "    kmeans.fit(x)\n",
    "    wcss.append(kmeans.inertia_)\n",
    "    \n",
    "#Plotting the results onto a line graph, allowing us to observe 'The elbow'\n",
    "plt.plot(range(1, 11), wcss)\n",
    "plt.title('The elbow method')\n",
    "plt.xlabel('Number of clusters')\n",
    "plt.ylabel('WCSS') # within cluster sum of squares\n",
    "plt.show()"
   ]
  },
  {
   "cell_type": "code",
   "execution_count": null,
   "metadata": {},
   "outputs": [],
   "source": [
    "# Pre specify 3 clusters \n",
    "kmeans = KMeans(n_clusters=3, random_state=0)"
   ]
  },
  {
   "cell_type": "markdown",
   "metadata": {},
   "source": [
    "The elbow method allows us to pick the optimum number of clusters from the given data. In this case we can see that the graph elbows at around 3, which is already known. It verifys the effictiveness of the graph. Any further number of clusters do not give a meaningful increase in the effictiveness of the kmeans test. \n",
    "\n",
    "https://www.kaggle.com/tonzowonzo/simple-k-means-clustering-on-the-iris-dataset"
   ]
  },
  {
   "cell_type": "code",
   "execution_count": null,
   "metadata": {},
   "outputs": [],
   "source": [
    "# Fit object using iris data to train model\n",
    "KMmodel = kmeans.fit(x)"
   ]
  },
  {
   "cell_type": "code",
   "execution_count": null,
   "metadata": {},
   "outputs": [],
   "source": [
    "# Check the classifications based on the model\n",
    "KMmodel.labels_"
   ]
  },
  {
   "cell_type": "markdown",
   "metadata": {},
   "source": [
    "The above array prints the classifications that the model has decided upon for the data it has recieved. This model is reasonibly in order. Taking a quick look at this array it seems like in a number of places the data has been misclassified. "
   ]
  },
  {
   "cell_type": "code",
   "execution_count": null,
   "metadata": {},
   "outputs": [],
   "source": [
    "# Get the centres of the clusters\n",
    "KMmodel.cluster_centers_"
   ]
  },
  {
   "cell_type": "code",
   "execution_count": null,
   "metadata": {},
   "outputs": [],
   "source": [
    "# Use pandas to crosstabulate predictions with true values\n",
    "ct = pd.crosstab(species, KMmodel.labels_)\n",
    "column_titles = [1,2,0]\n",
    "\n",
    "ct.reindex(columns=column_titles)"
   ]
  },
  {
   "cell_type": "markdown",
   "metadata": {},
   "source": [
    "From this comparison we can be certain that the Kmeans test predicted the setosa accutatly. Referring back to the labels we can see all of the 1 values are in order and at the beginning of the array. \n",
    "\n",
    "\n",
    "\n",
    "https://www.youtube.com/watch?v=pT17z_PziZs&ab_channel=DragonflyStatistics\n",
    "\n",
    "https://kobriendublin.wordpress.com/"
   ]
  },
  {
   "cell_type": "code",
   "execution_count": null,
   "metadata": {},
   "outputs": [],
   "source": [
    "# Select existing data\n",
    "df.loc[75] "
   ]
  },
  {
   "cell_type": "code",
   "execution_count": null,
   "metadata": {},
   "outputs": [],
   "source": [
    "df.loc[2]"
   ]
  },
  {
   "cell_type": "code",
   "execution_count": null,
   "metadata": {},
   "outputs": [],
   "source": [
    "# Predict existing using k means\n",
    "kmeans.predict([[6.6, 3, 4.4, 1.4]])"
   ]
  },
  {
   "cell_type": "code",
   "execution_count": null,
   "metadata": {},
   "outputs": [],
   "source": [
    "# convert prediction to species\n",
    "p = kmeans.predict([[4.7, 3.2, 1.3, 0.2], [6.6, 3, 4.4, 1.4]])\n",
    "for i in p:\n",
    "    if i == 1:\n",
    "        print(\"setosa\")\n",
    "    elif i == 2:\n",
    "        print(\"versicolor\")\n",
    "    else:\n",
    "        print(\"virginica\")"
   ]
  },
  {
   "cell_type": "markdown",
   "metadata": {},
   "source": [
    "Kmeans can accuratly predict the setosa and versicolor species as shown above. "
   ]
  },
  {
   "cell_type": "code",
   "execution_count": null,
   "metadata": {},
   "outputs": [],
   "source": [
    "# Select existing data\n",
    "df.loc[149]"
   ]
  },
  {
   "cell_type": "code",
   "execution_count": null,
   "metadata": {},
   "outputs": [],
   "source": [
    "# convert prediction to species\n",
    "p = kmeans.predict([[5.9, 3, 5.1, 1.8]])\n",
    "for i in p:\n",
    "    if i == 1:\n",
    "        print(\"setosa\")\n",
    "    elif i == 2:\n",
    "        print(\"versicolor\")\n",
    "    else:\n",
    "        print(\"virginica\")"
   ]
  },
  {
   "cell_type": "markdown",
   "metadata": {},
   "source": [
    "Entering the data given for entry 149 on the Iris data set we see how kmeans misclassifies it. It predicts it as a versicolor however we know it is infact virginica. \n",
    "\n",
    "It is a good example of how it is important to have a good understanding of your data set before undertaking an exercise like this one. The cluster defined by kmeans overlaps along the virginica and versicolor data so you must do further investigation when recieving results from a prediction tool. \n",
    "\n",
    "-------------------"
   ]
  },
  {
   "cell_type": "markdown",
   "metadata": {},
   "source": [
    "# Task 4: References\n",
    "\n",
    "[1] Mastering Markdown; GitHub; https://guides.github.com/features/mastering-markdown/\n",
    "\n",
    "\n",
    "-------------------"
   ]
  }
 ],
 "metadata": {
  "kernelspec": {
   "display_name": "Python 3",
   "language": "python",
   "name": "python3"
  },
  "language_info": {
   "codemirror_mode": {
    "name": "ipython",
    "version": 3
   },
   "file_extension": ".py",
   "mimetype": "text/x-python",
   "name": "python",
   "nbconvert_exporter": "python",
   "pygments_lexer": "ipython3",
   "version": "3.8.3"
  }
 },
 "nbformat": 4,
 "nbformat_minor": 4
}
